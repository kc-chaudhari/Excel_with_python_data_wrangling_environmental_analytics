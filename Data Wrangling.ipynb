{
 "cells": [
  {
   "cell_type": "markdown",
   "metadata": {
    "Collapsed": "false"
   },
   "source": [
    "# Title: Wrangling csv files\n",
    "\n"
   ]
  },
  {
   "cell_type": "markdown",
   "metadata": {
    "Collapsed": "false"
   },
   "source": [
    "## Preliminaries"
   ]
  },
  {
   "cell_type": "markdown",
   "metadata": {
    "Collapsed": "false"
   },
   "source": [
    "## Work\n",
    "\n",
    "This is where work gets done."
   ]
  },
  {
   "cell_type": "markdown",
   "metadata": {},
   "source": [
    "#2 Create blank Excel file named BCM.xlsx"
   ]
  },
  {
   "cell_type": "code",
   "execution_count": 1,
   "metadata": {},
   "outputs": [],
   "source": [
    "import pandas as pd\n",
    "from pathlib import Path\n",
    "from openpyxl import Workbook, load_workbook\n",
    "from openpyxl.utils.dataframe import dataframe_to_rows\n",
    "from openpyxl.styles import NamedStyle\n",
    "\n",
    "\n",
    "# Define the path to the logs folder and the output Excel file\n",
    "logs_folder = Path(\"data/logs\")\n",
    "output_file = \"output/BCM.xlsx\"\n",
    "\n",
    "# Create a blank Excel workbook\n",
    "wb = Workbook()\n",
    "wb.save(output_file)"
   ]
  },
  {
   "cell_type": "markdown",
   "metadata": {},
   "source": [
    "#3 Insert the contents of each csv into a new sheet in BCM.xlsx"
   ]
  },
  {
   "cell_type": "code",
   "execution_count": 2,
   "metadata": {},
   "outputs": [],
   "source": [
    "\n",
    "for csv_file in logs_folder.glob(\"*.csv\"):\n",
    "    # Read the CSV file into a DataFrame\n",
    "    df = pd.read_csv(csv_file, header=None, names=['datetime', 'scale', 'temperature'], parse_dates=['datetime'])\n",
    "    \n",
    "    # Load the existing workbook\n",
    "    wb = load_workbook(output_file)\n",
    "    \n",
    "    # Add a new sheet with the name of the CSV file (without extension)\n",
    "    sheet_name = csv_file.stem\n",
    "    ws = wb.create_sheet(title=sheet_name)\n",
    "    \n",
    "    # Write the DataFrame to the new sheet\n",
    "    for row in df.itertuples(index=False, name=None):\n",
    "        ws.append(row)\n",
    "    \n",
    "    # Save the workbook\n",
    "    wb.save(output_file)\n"
   ]
  },
  {
   "cell_type": "markdown",
   "metadata": {},
   "source": [
    "#4 Add the Formulas"
   ]
  },
  {
   "cell_type": "code",
   "execution_count": 3,
   "metadata": {},
   "outputs": [],
   "source": [
    "\n",
    "# Load the workbook\n",
    "wb = load_workbook(output_file)\n",
    "\n",
    "# Add formulas to each sheet\n",
    "for sheet in wb.sheetnames:\n",
    "    if sheet == 'Sheet':  # Skip the initial blank sheet\n",
    "        continue\n",
    "    ws = wb[sheet]\n",
    "    \n",
    "    # Add headers\n",
    "    ws.insert_rows(0)\n",
    "    ws['A1'], ws['B1'], ws['C1'] = 'datetime', 'scale', 'temperature'\n",
    "    \n",
    "    # Find the maximum row number\n",
    "    max_row = ws.max_row\n",
    "    \n",
    "    # Add formulas for min, max, average temperature\n",
    "    ws['G2'], ws['G3'], ws['G4'] = 'min_temp', 'max_temp', 'mean_temp'\n",
    "    ws['H2'] = f\"=MIN(C2:C{max_row})\"\n",
    "    ws['H3'] = f\"=MAX(C2:C{max_row})\"\n",
    "    ws['H4'] = f\"=AVERAGE(C2:C{max_row})\"\n",
    "    \n",
    "    # Add formulas for min, max datetime\n",
    "    ws['G6'], ws['G7'] = 'Min_Date', 'Max_Date'\n",
    "    ws['H6'] = f\"=MIN(A2:A{max_row})\"\n",
    "    ws['H7'] = f\"=MAX(A2:A{max_row})\"\n",
    "\n",
    "    # Check if the style already exists, if not create it\n",
    "    if 'datetime' not in wb.named_styles:\n",
    "        date_style = NamedStyle(name='datetime', number_format='YYYY-MM-DD HH:MM:SS')\n",
    "        wb.add_named_style(date_style)\n",
    "    \n",
    "    \n",
    "    # Apply the style to the min and max datetime cells\n",
    "    ws['H6'].style = 'datetime'\n",
    "    ws['H7'].style = 'datetime'\n",
    "\n",
    "    # Check if the number style already exists, if not create it\n",
    "    if 'one_decimal' not in wb.named_styles:\n",
    "        number_style = NamedStyle(name='one_decimal', number_format='0.0')\n",
    "        wb.add_named_style(number_style)\n",
    "    \n",
    "    # Apply the number style to the min, max, and average temperature cells\n",
    "    ws['H2'].style = 'one_decimal'\n",
    "    ws['H3'].style = 'one_decimal'\n",
    "    ws['H4'].style = 'one_decimal'\n",
    "\n",
    "# Save the workbook with formulas\n",
    "wb.save(output_file)"
   ]
  },
  {
   "cell_type": "markdown",
   "metadata": {},
   "source": [
    "Extra Credit"
   ]
  },
  {
   "cell_type": "code",
   "execution_count": 4,
   "metadata": {},
   "outputs": [],
   "source": [
    "import pandas as pd\n",
    "from pathlib import Path\n",
    "from openpyxl import Workbook\n",
    "from openpyxl.utils.dataframe import dataframe_to_rows\n",
    "\n",
    "# Define the path to the logs folder\n",
    "logs_folder = Path(\"data/logs\")\n",
    "\n",
    "# Define the path to the output folder\n",
    "output_folder = Path(\"output\")\n",
    "\n",
    "# Dictionary to hold Workbook objects for each stream identifier\n",
    "workbooks = {}\n",
    "\n",
    "# Process each CSV file and insert it into the appropriate Excel workbook\n",
    "for csv_file in logs_folder.glob(\"*.csv\"):\n",
    "    # Extract the stream identifier from the file name\n",
    "    stream_identifier = csv_file.stem.split('-')[0]\n",
    "    \n",
    "    # Check if Workbook for this stream already exists, otherwise create a new one\n",
    "    if stream_identifier not in workbooks:\n",
    "        workbooks[stream_identifier] = Workbook()\n",
    "    \n",
    "    # Read the CSV file into a DataFrame\n",
    "    df = pd.read_csv(csv_file, header=None, names=['datetime', 'scale', 'temperature'])\n",
    "    \n",
    "    # Add a new sheet with the name of the CSV file (without extension)\n",
    "    sheet_name = csv_file.stem\n",
    "    ws = workbooks[stream_identifier].create_sheet(title=sheet_name)\n",
    "    \n",
    "    # Write the DataFrame to the new sheet\n",
    "    for row in dataframe_to_rows(df, index=False, header=True):\n",
    "        ws.append(row)\n",
    "    \n",
    "    # Add headers if the sheet is new (not already existing)\n",
    "    if len(ws['A']) == 1:  # Checking if there is only one row (header row)\n",
    "        headers = ['datetime', 'scale', 'temperature']\n",
    "        ws.insert_rows(1)\n",
    "        for col_num, header in enumerate(headers, start=1):\n",
    "            ws.cell(row=1, column=col_num, value=header)\n",
    "\n",
    "# Save each workbook\n",
    "for stream_identifier, wb in workbooks.items():\n",
    "    output_file = output_folder / f\"{stream_identifier}_consolidated.xlsx\"\n",
    "    wb.save(output_file)\n"
   ]
  }
 ],
 "metadata": {
  "kernelspec": {
   "display_name": "Python 3",
   "language": "python",
   "name": "python3"
  },
  "language_info": {
   "codemirror_mode": {
    "name": "ipython",
    "version": 3
   },
   "file_extension": ".py",
   "mimetype": "text/x-python",
   "name": "python",
   "nbconvert_exporter": "python",
   "pygments_lexer": "ipython3",
   "version": "3.12.3"
  },
  "toc-autonumbering": true
 },
 "nbformat": 4,
 "nbformat_minor": 4
}
