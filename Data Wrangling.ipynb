{
 "cells": [
  {
   "cell_type": "markdown",
   "metadata": {
    "Collapsed": "false"
   },
   "source": [
    "# Title: Wrangling csv files\n",
    "\n"
   ]
  },
  {
   "cell_type": "markdown",
   "metadata": {
    "Collapsed": "false"
   },
   "source": [
    "## Preliminaries"
   ]
  },
  {
   "cell_type": "code",
   "execution_count": 9,
   "metadata": {
    "Collapsed": "false"
   },
   "outputs": [
    {
     "name": "stdout",
     "output_type": "stream",
     "text": [
      "The autoreload extension is already loaded. To reload it, use:\n",
      "  %reload_ext autoreload\n"
     ]
    }
   ],
   "source": [
    "# To auto-reload modules in jupyter notebook (so that changes in files *.py doesn't require manual reloading):\n",
    "# https://stackoverflow.com/questions/5364050/reloading-submodules-in-ipython\n",
    "%load_ext autoreload\n",
    "%autoreload 2"
   ]
  },
  {
   "cell_type": "markdown",
   "metadata": {
    "Collapsed": "false"
   },
   "source": [
    "Import commonly used libraries and magic command for inline plotting"
   ]
  },
  {
   "cell_type": "code",
   "execution_count": 10,
   "metadata": {
    "Collapsed": "false"
   },
   "outputs": [],
   "source": [
    "import numpy as np\n",
    "import pandas as pd\n",
    "import matplotlib.pyplot as plt\n",
    "import seaborn as sns\n"
   ]
  },
  {
   "cell_type": "code",
   "execution_count": 11,
   "metadata": {},
   "outputs": [],
   "source": [
    "%matplotlib inline"
   ]
  },
  {
   "cell_type": "markdown",
   "metadata": {
    "Collapsed": "false"
   },
   "source": [
    "## Work\n",
    "\n",
    "This is where work gets done."
   ]
  },
  {
   "cell_type": "code",
   "execution_count": 12,
   "metadata": {
    "Collapsed": "false"
   },
   "outputs": [],
   "source": [
    "#1 Combine CSV Files into an Excel Workbook\n",
    "import pandas as pd\n",
    "from pathlib import Path\n",
    "from openpyxl import Workbook, load_workbook\n",
    "\n",
    "# Define the path to the logs folder and the output Excel file\n",
    "logs_folder = Path(\"data\")\n",
    "output_file = \"BCM.xlsx\"\n",
    "\n",
    "# Create a blank Excel workbook\n",
    "wb = Workbook()\n",
    "wb.save(output_file)\n",
    "\n",
    "# Read each CSV file and insert into the Excel workbook\n",
    "for csv_file in logs_folder.glob(\"*.csv\"):\n",
    "    # Read the CSV file into a DataFrame\n",
    "    df = pd.read_csv(csv_file, header=None, names=['datetime', 'scale', 'temperature'])\n",
    "    \n",
    "    # Load the existing workbook\n",
    "    wb = load_workbook(output_file)\n",
    "    \n",
    "    # Add a new sheet with the name of the CSV file (without extension)\n",
    "    sheet_name = csv_file.stem\n",
    "    ws = wb.create_sheet(title=sheet_name)\n",
    "    \n",
    "    # Write the DataFrame to the new sheet\n",
    "    for row in df.itertuples(index=False, name=None):\n",
    "        ws.append(row)\n",
    "    \n",
    "    # Save the workbook\n",
    "    wb.save(output_file)\n"
   ]
  },
  {
   "cell_type": "code",
   "execution_count": null,
   "metadata": {},
   "outputs": [],
   "source": [
    "#2 Add Formulas to Each Sheet\n",
    "from openpyxl.utils.dataframe import dataframe_to_rows\n",
    "\n",
    "# Load the workbook\n",
    "wb = load_workbook(output_file)\n",
    "\n",
    "# Add formulas to each sheet\n",
    "for sheet in wb.sheetnames:\n",
    "    if sheet == 'Sheet':  # Skip the initial blank sheet\n",
    "        continue\n",
    "    ws = wb[sheet]\n",
    "    \n",
    "    # Add headers\n",
    "    ws.insert_rows(0)\n",
    "    ws['A1'], ws['B1'], ws['C1'] = 'datetime', 'scale', 'temperature'\n",
    "    \n",
    "    # Determine the range of data\n",
    "    max_row = ws.max_row\n",
    "    \n",
    "    # Add formulas for min, max, average temperature\n",
    "    ws['G2'], ws['G3'], ws['G4'] = 'Min Temperature', 'Max Temperature', 'Avg Temperature'\n",
    "    ws['H2'] = f\"=MIN(C2:C{max_row})\"\n",
    "    ws['H3'] = f\"=MAX(C2:C{max_row})\"\n",
    "    ws['H4'] = f\"=AVERAGE(C2:C{max_row})\"\n",
    "    \n",
    "    # Add formulas for min, max datetime\n",
    "    ws['G6'], ws['G7'] = 'Min Datetime', 'Max Datetime'\n",
    "    ws['H6'] = f\"=MIN(A2:A{max_row})\"\n",
    "    ws['H7'] = f\"=MAX(A2:A{max_row})\"\n",
    "\n",
    "# Save the workbook with formulas\n",
    "wb.save(output_file)\n"
   ]
  },
  {
   "cell_type": "code",
   "execution_count": null,
   "metadata": {},
   "outputs": [],
   "source": []
  }
 ],
 "metadata": {
  "kernelspec": {
   "display_name": "Python 3",
   "language": "python",
   "name": "python3"
  },
  "language_info": {
   "codemirror_mode": {
    "name": "ipython",
    "version": 3
   },
   "file_extension": ".py",
   "mimetype": "text/x-python",
   "name": "python",
   "nbconvert_exporter": "python",
   "pygments_lexer": "ipython3",
   "version": "3.12.3"
  },
  "toc-autonumbering": true
 },
 "nbformat": 4,
 "nbformat_minor": 4
}
